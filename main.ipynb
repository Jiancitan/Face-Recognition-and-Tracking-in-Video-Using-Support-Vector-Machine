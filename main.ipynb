{
 "cells": [
  {
   "cell_type": "code",
   "execution_count": 34,
   "metadata": {},
   "outputs": [],
   "source": [
    "import pandas as pd\n",
    "from sklearn.model_selection import train_test_split\n",
    "from sklearn.preprocessing import StandardScaler\n",
    "from sklearn.svm import SVC\n",
    "from sklearn.metrics import classification_report, accuracy_score, r2_score\n"
   ]
  },
  {
   "cell_type": "code",
   "execution_count": 35,
   "metadata": {},
   "outputs": [],
   "source": [
    "csv_filename = r\"C:\\Users\\acer\\Downloads\\face\\face_date\\face_data.csv\"\n",
    "df = pd.read_csv(csv_filename)\n"
   ]
  },
  {
   "cell_type": "code",
   "execution_count": 36,
   "metadata": {},
   "outputs": [
    {
     "data": {
      "text/plain": [
       "Index(['label', 'x0', 'x1', 'x2', 'x3', 'x4', 'x5', 'x6', 'x7', 'x8',\n",
       "       ...\n",
       "       'z458', 'z459', 'z460', 'z461', 'z462', 'z463', 'z464', 'z465', 'z466',\n",
       "       'z467'],\n",
       "      dtype='object', length=1405)"
      ]
     },
     "execution_count": 36,
     "metadata": {},
     "output_type": "execute_result"
    }
   ],
   "source": [
    "df.columns"
   ]
  },
  {
   "cell_type": "code",
   "execution_count": 37,
   "metadata": {},
   "outputs": [
    {
     "data": {
      "text/plain": [
       "label    0\n",
       "x0       0\n",
       "x1       0\n",
       "x2       0\n",
       "x3       0\n",
       "        ..\n",
       "z463     0\n",
       "z464     0\n",
       "z465     0\n",
       "z466     0\n",
       "z467     0\n",
       "Length: 1405, dtype: int64"
      ]
     },
     "execution_count": 37,
     "metadata": {},
     "output_type": "execute_result"
    }
   ],
   "source": [
    "df.isnull().sum()"
   ]
  },
  {
   "cell_type": "code",
   "execution_count": 38,
   "metadata": {},
   "outputs": [
    {
     "data": {
      "text/html": [
       "<div>\n",
       "<style scoped>\n",
       "    .dataframe tbody tr th:only-of-type {\n",
       "        vertical-align: middle;\n",
       "    }\n",
       "\n",
       "    .dataframe tbody tr th {\n",
       "        vertical-align: top;\n",
       "    }\n",
       "\n",
       "    .dataframe thead th {\n",
       "        text-align: right;\n",
       "    }\n",
       "</style>\n",
       "<table border=\"1\" class=\"dataframe\">\n",
       "  <thead>\n",
       "    <tr style=\"text-align: right;\">\n",
       "      <th></th>\n",
       "      <th>label</th>\n",
       "      <th>x0</th>\n",
       "      <th>x1</th>\n",
       "      <th>x2</th>\n",
       "      <th>x3</th>\n",
       "      <th>x4</th>\n",
       "      <th>x5</th>\n",
       "      <th>x6</th>\n",
       "      <th>x7</th>\n",
       "      <th>x8</th>\n",
       "      <th>...</th>\n",
       "      <th>z458</th>\n",
       "      <th>z459</th>\n",
       "      <th>z460</th>\n",
       "      <th>z461</th>\n",
       "      <th>z462</th>\n",
       "      <th>z463</th>\n",
       "      <th>z464</th>\n",
       "      <th>z465</th>\n",
       "      <th>z466</th>\n",
       "      <th>z467</th>\n",
       "    </tr>\n",
       "  </thead>\n",
       "  <tbody>\n",
       "    <tr>\n",
       "      <th>0</th>\n",
       "      <td>Tuan</td>\n",
       "      <td>0.478156</td>\n",
       "      <td>0.736882</td>\n",
       "      <td>-0.052273</td>\n",
       "      <td>0.478203</td>\n",
       "      <td>0.653989</td>\n",
       "      <td>-0.089536</td>\n",
       "      <td>0.477671</td>\n",
       "      <td>0.681078</td>\n",
       "      <td>-0.048918</td>\n",
       "      <td>...</td>\n",
       "      <td>0.005587</td>\n",
       "      <td>0.503445</td>\n",
       "      <td>0.538533</td>\n",
       "      <td>-0.006010</td>\n",
       "      <td>0.592325</td>\n",
       "      <td>0.525566</td>\n",
       "      <td>0.028292</td>\n",
       "      <td>0.600726</td>\n",
       "      <td>0.515978</td>\n",
       "      <td>0.029517</td>\n",
       "    </tr>\n",
       "    <tr>\n",
       "      <th>1</th>\n",
       "      <td>Tuan</td>\n",
       "      <td>0.474874</td>\n",
       "      <td>0.744046</td>\n",
       "      <td>-0.050781</td>\n",
       "      <td>0.473743</td>\n",
       "      <td>0.661580</td>\n",
       "      <td>-0.089666</td>\n",
       "      <td>0.474461</td>\n",
       "      <td>0.687542</td>\n",
       "      <td>-0.048181</td>\n",
       "      <td>...</td>\n",
       "      <td>0.002571</td>\n",
       "      <td>0.502736</td>\n",
       "      <td>0.541772</td>\n",
       "      <td>-0.009041</td>\n",
       "      <td>0.594040</td>\n",
       "      <td>0.526731</td>\n",
       "      <td>0.022828</td>\n",
       "      <td>0.602658</td>\n",
       "      <td>0.516731</td>\n",
       "      <td>0.023750</td>\n",
       "    </tr>\n",
       "    <tr>\n",
       "      <th>2</th>\n",
       "      <td>Tuan</td>\n",
       "      <td>0.475440</td>\n",
       "      <td>0.743457</td>\n",
       "      <td>-0.050305</td>\n",
       "      <td>0.474485</td>\n",
       "      <td>0.660938</td>\n",
       "      <td>-0.089785</td>\n",
       "      <td>0.474995</td>\n",
       "      <td>0.686617</td>\n",
       "      <td>-0.048119</td>\n",
       "      <td>...</td>\n",
       "      <td>0.002315</td>\n",
       "      <td>0.502410</td>\n",
       "      <td>0.540792</td>\n",
       "      <td>-0.009415</td>\n",
       "      <td>0.592792</td>\n",
       "      <td>0.525807</td>\n",
       "      <td>0.022655</td>\n",
       "      <td>0.601392</td>\n",
       "      <td>0.516064</td>\n",
       "      <td>0.023543</td>\n",
       "    </tr>\n",
       "    <tr>\n",
       "      <th>3</th>\n",
       "      <td>Tuan</td>\n",
       "      <td>0.475679</td>\n",
       "      <td>0.741279</td>\n",
       "      <td>-0.051060</td>\n",
       "      <td>0.474288</td>\n",
       "      <td>0.658609</td>\n",
       "      <td>-0.090107</td>\n",
       "      <td>0.474974</td>\n",
       "      <td>0.684690</td>\n",
       "      <td>-0.048471</td>\n",
       "      <td>...</td>\n",
       "      <td>0.002771</td>\n",
       "      <td>0.501955</td>\n",
       "      <td>0.539225</td>\n",
       "      <td>-0.008933</td>\n",
       "      <td>0.592785</td>\n",
       "      <td>0.524140</td>\n",
       "      <td>0.023350</td>\n",
       "      <td>0.601300</td>\n",
       "      <td>0.514437</td>\n",
       "      <td>0.024295</td>\n",
       "    </tr>\n",
       "    <tr>\n",
       "      <th>4</th>\n",
       "      <td>Tuan</td>\n",
       "      <td>0.476920</td>\n",
       "      <td>0.739745</td>\n",
       "      <td>-0.050476</td>\n",
       "      <td>0.475624</td>\n",
       "      <td>0.657362</td>\n",
       "      <td>-0.089704</td>\n",
       "      <td>0.476183</td>\n",
       "      <td>0.683173</td>\n",
       "      <td>-0.048028</td>\n",
       "      <td>...</td>\n",
       "      <td>0.002508</td>\n",
       "      <td>0.503160</td>\n",
       "      <td>0.537419</td>\n",
       "      <td>-0.009193</td>\n",
       "      <td>0.593689</td>\n",
       "      <td>0.522096</td>\n",
       "      <td>0.023525</td>\n",
       "      <td>0.602195</td>\n",
       "      <td>0.512284</td>\n",
       "      <td>0.024529</td>\n",
       "    </tr>\n",
       "  </tbody>\n",
       "</table>\n",
       "<p>5 rows × 1405 columns</p>\n",
       "</div>"
      ],
      "text/plain": [
       "  label        x0        x1        x2        x3        x4        x5        x6  \\\n",
       "0  Tuan  0.478156  0.736882 -0.052273  0.478203  0.653989 -0.089536  0.477671   \n",
       "1  Tuan  0.474874  0.744046 -0.050781  0.473743  0.661580 -0.089666  0.474461   \n",
       "2  Tuan  0.475440  0.743457 -0.050305  0.474485  0.660938 -0.089785  0.474995   \n",
       "3  Tuan  0.475679  0.741279 -0.051060  0.474288  0.658609 -0.090107  0.474974   \n",
       "4  Tuan  0.476920  0.739745 -0.050476  0.475624  0.657362 -0.089704  0.476183   \n",
       "\n",
       "         x7        x8  ...      z458      z459      z460      z461      z462  \\\n",
       "0  0.681078 -0.048918  ...  0.005587  0.503445  0.538533 -0.006010  0.592325   \n",
       "1  0.687542 -0.048181  ...  0.002571  0.502736  0.541772 -0.009041  0.594040   \n",
       "2  0.686617 -0.048119  ...  0.002315  0.502410  0.540792 -0.009415  0.592792   \n",
       "3  0.684690 -0.048471  ...  0.002771  0.501955  0.539225 -0.008933  0.592785   \n",
       "4  0.683173 -0.048028  ...  0.002508  0.503160  0.537419 -0.009193  0.593689   \n",
       "\n",
       "       z463      z464      z465      z466      z467  \n",
       "0  0.525566  0.028292  0.600726  0.515978  0.029517  \n",
       "1  0.526731  0.022828  0.602658  0.516731  0.023750  \n",
       "2  0.525807  0.022655  0.601392  0.516064  0.023543  \n",
       "3  0.524140  0.023350  0.601300  0.514437  0.024295  \n",
       "4  0.522096  0.023525  0.602195  0.512284  0.024529  \n",
       "\n",
       "[5 rows x 1405 columns]"
      ]
     },
     "execution_count": 38,
     "metadata": {},
     "output_type": "execute_result"
    }
   ],
   "source": [
    "df.head()"
   ]
  },
  {
   "cell_type": "code",
   "execution_count": 39,
   "metadata": {},
   "outputs": [],
   "source": [
    "from sklearn.preprocessing import StandardScaler, LabelEncoder\n"
   ]
  },
  {
   "cell_type": "code",
   "execution_count": 40,
   "metadata": {},
   "outputs": [
    {
     "name": "stdout",
     "output_type": "stream",
     "text": [
      "<class 'pandas.core.frame.DataFrame'>\n",
      "RangeIndex: 300 entries, 0 to 299\n",
      "Columns: 1405 entries, label to z467\n",
      "dtypes: float64(1404), object(1)\n",
      "memory usage: 3.2+ MB\n"
     ]
    }
   ],
   "source": [
    "df.info()"
   ]
  },
  {
   "cell_type": "code",
   "execution_count": 41,
   "metadata": {},
   "outputs": [],
   "source": [
    "label_encoder = LabelEncoder()\n",
    "\n",
    "df['label'] = label_encoder.fit_transform(df['label'])\n"
   ]
  },
  {
   "cell_type": "code",
   "execution_count": 42,
   "metadata": {},
   "outputs": [
    {
     "data": {
      "text/plain": [
       "0      0\n",
       "1      0\n",
       "2      0\n",
       "3      0\n",
       "4      0\n",
       "      ..\n",
       "295    0\n",
       "296    0\n",
       "297    0\n",
       "298    0\n",
       "299    0\n",
       "Name: label, Length: 300, dtype: int32"
      ]
     },
     "execution_count": 42,
     "metadata": {},
     "output_type": "execute_result"
    }
   ],
   "source": [
    "df['label']"
   ]
  },
  {
   "cell_type": "code",
   "execution_count": 43,
   "metadata": {},
   "outputs": [],
   "source": [
    "X = df.drop('label', axis=1)\n",
    "y = df['label']\n"
   ]
  },
  {
   "cell_type": "code",
   "execution_count": 44,
   "metadata": {},
   "outputs": [],
   "source": [
    "X_train, X_test, y_train, y_test = train_test_split(X, y, test_size=0.2, random_state=42)\n"
   ]
  },
  {
   "cell_type": "code",
   "execution_count": 47,
   "metadata": {},
   "outputs": [
    {
     "data": {
      "text/plain": [
       "232    0\n",
       "59     0\n",
       "6      0\n",
       "185    0\n",
       "173    0\n",
       "      ..\n",
       "188    0\n",
       "71     0\n",
       "106    0\n",
       "270    0\n",
       "102    0\n",
       "Name: label, Length: 240, dtype: int32"
      ]
     },
     "execution_count": 47,
     "metadata": {},
     "output_type": "execute_result"
    }
   ],
   "source": [
    "y_train"
   ]
  },
  {
   "cell_type": "code",
   "execution_count": 46,
   "metadata": {},
   "outputs": [
    {
     "ename": "ValueError",
     "evalue": "The number of classes has to be greater than one; got 1 class",
     "output_type": "error",
     "traceback": [
      "\u001b[1;31m---------------------------------------------------------------------------\u001b[0m",
      "\u001b[1;31mValueError\u001b[0m                                Traceback (most recent call last)",
      "Cell \u001b[1;32mIn[46], line 5\u001b[0m\n\u001b[0;32m      1\u001b[0m X_train, X_test, y_train, y_test \u001b[38;5;241m=\u001b[39m train_test_split(X, y, test_size\u001b[38;5;241m=\u001b[39m\u001b[38;5;241m0.2\u001b[39m, random_state\u001b[38;5;241m=\u001b[39m\u001b[38;5;241m42\u001b[39m)\n\u001b[0;32m      4\u001b[0m svm_model \u001b[38;5;241m=\u001b[39m SVC(kernel\u001b[38;5;241m=\u001b[39m\u001b[38;5;124m'\u001b[39m\u001b[38;5;124mlinear\u001b[39m\u001b[38;5;124m'\u001b[39m)  \n\u001b[1;32m----> 5\u001b[0m svm_model\u001b[38;5;241m.\u001b[39mfit(X_train, y_train)\n\u001b[0;32m      7\u001b[0m y_pred \u001b[38;5;241m=\u001b[39m svm_model\u001b[38;5;241m.\u001b[39mpredict(X_test)\n",
      "File \u001b[1;32mc:\\Users\\acer\\anaconda3\\Lib\\site-packages\\sklearn\\svm\\_base.py:201\u001b[0m, in \u001b[0;36mBaseLibSVM.fit\u001b[1;34m(self, X, y, sample_weight)\u001b[0m\n\u001b[0;32m    191\u001b[0m \u001b[38;5;28;01melse\u001b[39;00m:\n\u001b[0;32m    192\u001b[0m     X, y \u001b[38;5;241m=\u001b[39m \u001b[38;5;28mself\u001b[39m\u001b[38;5;241m.\u001b[39m_validate_data(\n\u001b[0;32m    193\u001b[0m         X,\n\u001b[0;32m    194\u001b[0m         y,\n\u001b[1;32m   (...)\u001b[0m\n\u001b[0;32m    198\u001b[0m         accept_large_sparse\u001b[38;5;241m=\u001b[39m\u001b[38;5;28;01mFalse\u001b[39;00m,\n\u001b[0;32m    199\u001b[0m     )\n\u001b[1;32m--> 201\u001b[0m y \u001b[38;5;241m=\u001b[39m \u001b[38;5;28mself\u001b[39m\u001b[38;5;241m.\u001b[39m_validate_targets(y)\n\u001b[0;32m    203\u001b[0m sample_weight \u001b[38;5;241m=\u001b[39m np\u001b[38;5;241m.\u001b[39masarray(\n\u001b[0;32m    204\u001b[0m     [] \u001b[38;5;28;01mif\u001b[39;00m sample_weight \u001b[38;5;129;01mis\u001b[39;00m \u001b[38;5;28;01mNone\u001b[39;00m \u001b[38;5;28;01melse\u001b[39;00m sample_weight, dtype\u001b[38;5;241m=\u001b[39mnp\u001b[38;5;241m.\u001b[39mfloat64\n\u001b[0;32m    205\u001b[0m )\n\u001b[0;32m    206\u001b[0m solver_type \u001b[38;5;241m=\u001b[39m LIBSVM_IMPL\u001b[38;5;241m.\u001b[39mindex(\u001b[38;5;28mself\u001b[39m\u001b[38;5;241m.\u001b[39m_impl)\n",
      "File \u001b[1;32mc:\\Users\\acer\\anaconda3\\Lib\\site-packages\\sklearn\\svm\\_base.py:749\u001b[0m, in \u001b[0;36mBaseSVC._validate_targets\u001b[1;34m(self, y)\u001b[0m\n\u001b[0;32m    747\u001b[0m \u001b[38;5;28mself\u001b[39m\u001b[38;5;241m.\u001b[39mclass_weight_ \u001b[38;5;241m=\u001b[39m compute_class_weight(\u001b[38;5;28mself\u001b[39m\u001b[38;5;241m.\u001b[39mclass_weight, classes\u001b[38;5;241m=\u001b[39m\u001b[38;5;28mcls\u001b[39m, y\u001b[38;5;241m=\u001b[39my_)\n\u001b[0;32m    748\u001b[0m \u001b[38;5;28;01mif\u001b[39;00m \u001b[38;5;28mlen\u001b[39m(\u001b[38;5;28mcls\u001b[39m) \u001b[38;5;241m<\u001b[39m \u001b[38;5;241m2\u001b[39m:\n\u001b[1;32m--> 749\u001b[0m     \u001b[38;5;28;01mraise\u001b[39;00m \u001b[38;5;167;01mValueError\u001b[39;00m(\n\u001b[0;32m    750\u001b[0m         \u001b[38;5;124m\"\u001b[39m\u001b[38;5;124mThe number of classes has to be greater than one; got \u001b[39m\u001b[38;5;132;01m%d\u001b[39;00m\u001b[38;5;124m class\u001b[39m\u001b[38;5;124m\"\u001b[39m\n\u001b[0;32m    751\u001b[0m         \u001b[38;5;241m%\u001b[39m \u001b[38;5;28mlen\u001b[39m(\u001b[38;5;28mcls\u001b[39m)\n\u001b[0;32m    752\u001b[0m     )\n\u001b[0;32m    754\u001b[0m \u001b[38;5;28mself\u001b[39m\u001b[38;5;241m.\u001b[39mclasses_ \u001b[38;5;241m=\u001b[39m \u001b[38;5;28mcls\u001b[39m\n\u001b[0;32m    756\u001b[0m \u001b[38;5;28;01mreturn\u001b[39;00m np\u001b[38;5;241m.\u001b[39masarray(y, dtype\u001b[38;5;241m=\u001b[39mnp\u001b[38;5;241m.\u001b[39mfloat64, order\u001b[38;5;241m=\u001b[39m\u001b[38;5;124m\"\u001b[39m\u001b[38;5;124mC\u001b[39m\u001b[38;5;124m\"\u001b[39m)\n",
      "\u001b[1;31mValueError\u001b[0m: The number of classes has to be greater than one; got 1 class"
     ]
    }
   ],
   "source": [
    "X_train, X_test, y_train, y_test = train_test_split(X, y, test_size=0.2, random_state=42)\n",
    "\n",
    "\n",
    "svm_model = SVC(kernel='linear')  \n",
    "svm_model.fit(X_train, y_train)\n",
    "\n",
    "y_pred = svm_model.predict(X_test)\n",
    "\n"
   ]
  },
  {
   "cell_type": "code",
   "execution_count": null,
   "metadata": {},
   "outputs": [
    {
     "name": "stdout",
     "output_type": "stream",
     "text": [
      "Độ chính xác của mô hình: 100.00%\n",
      "\n",
      "Báo cáo phân loại:\n",
      "              precision    recall  f1-score   support\n",
      "\n",
      "           0       1.00      1.00      1.00        58\n",
      "           1       1.00      1.00      1.00        62\n",
      "\n",
      "    accuracy                           1.00       120\n",
      "   macro avg       1.00      1.00      1.00       120\n",
      "weighted avg       1.00      1.00      1.00       120\n",
      "\n",
      "R² score của mô hình: 1.00\n",
      "Mô hình đã được lưu tại svm_face_model.pkl\n"
     ]
    }
   ],
   "source": [
    "accuracy = accuracy_score(y_test, y_pred)\n",
    "print(f\"accuracy: {accuracy * 100:.2f}%\")\n",
    "print(\"\\nClassification report:\")\n",
    "print(classification_report(y_test, y_pred))\n",
    "\n",
    "\n",
    "r2 = r2_score(y_test, y_pred)\n",
    "print(f\"R²: {r2:.2f}\")\n",
    "\n",
    "import joblib\n",
    "joblib_file = \"svm_face_model.pkl\"\n",
    "joblib.dump(svm_model, joblib_file)\n",
    "print(f\"Mmodel save {joblib_file}\")"
   ]
  },
  {
   "cell_type": "code",
   "execution_count": null,
   "metadata": {},
   "outputs": [
    {
     "data": {
      "text/plain": [
       "['label_encoder.pkl']"
      ]
     },
     "execution_count": 33,
     "metadata": {},
     "output_type": "execute_result"
    }
   ],
   "source": [
    "label_encoder_file = \"label_encoder.pkl\"\n",
    "joblib.dump(label_encoder, label_encoder_file)"
   ]
  }
 ],
 "metadata": {
  "kernelspec": {
   "display_name": "base",
   "language": "python",
   "name": "python3"
  },
  "language_info": {
   "codemirror_mode": {
    "name": "ipython",
    "version": 3
   },
   "file_extension": ".py",
   "mimetype": "text/x-python",
   "name": "python",
   "nbconvert_exporter": "python",
   "pygments_lexer": "ipython3",
   "version": "3.11.7"
  }
 },
 "nbformat": 4,
 "nbformat_minor": 2
}
